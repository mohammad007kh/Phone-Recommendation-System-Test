{
 "cells": [
  {
   "cell_type": "markdown",
   "metadata": {},
   "source": [
    "# Phone Recommendation System\n",
    "\n",
    "## Introduction\n",
    "This notebook demonstrates a machine learning project to build a phone recommendation system using a dataset of items and reviews. We will go through the steps of loading the data, preprocessing, building the recommendation system, and evaluating the results."
   ]
  },
  {
   "cell_type": "markdown",
   "metadata": {},
   "source": [
    "### Import Required Libraries"
   ]
  },
  {
   "cell_type": "code",
   "execution_count": 56,
   "metadata": {},
   "outputs": [],
   "source": [
    "import pandas as pd\n",
    "import numpy as np\n",
    "from sklearn.feature_extraction.text import TfidfVectorizer\n",
    "from sklearn.metrics.pairwise import cosine_similarity"
   ]
  },
  {
   "cell_type": "markdown",
   "metadata": {},
   "source": [
    "### Load the Dataset"
   ]
  },
  {
   "cell_type": "code",
   "execution_count": 57,
   "metadata": {},
   "outputs": [
    {
     "name": "stdout",
     "output_type": "stream",
     "text": []
    }
   ],
   "source": [
    "# Load the CSV files\n",
    "items = pd.read_csv(\"items.csv\")\n",
    "reviews = pd.read_csv(\"reviews.csv\")\n",
    "\n",
    "# Display the first few rows of the data\n",
    "print(\"Shape of Items Data:\", items.shape)\n",
    "print(\"Items Data Sample:\")\n",
    "print(items.head())\n",
    "\n",
    "print(\"\\nShape of Reviews Data:\", reviews.shape)\n",
    "print(\"\\nReviews Data Sample:\")\n",
    "print(reviews.head())"
   ]
  },
  {
   "cell_type": "markdown",
   "metadata": {},
   "source": [
    "## Data Preprocessing\n",
    "Before we build the recommendation system, we need to preprocess our data to ensure it is in the right format."
   ]
  },
  {
   "cell_type": "code",
   "execution_count": 58,
   "metadata": {},
   "outputs": [
    {
     "name": "stdout",
     "output_type": "stream",
     "text": []
    }
   ],
   "source": [
    "# Fill NaN brands with \"Unknown\"\n",
    "print(\"Before dropping Nan Items: \", items.shape)\n",
    "#items[\"brand\"].fillna(\"Unknown\", inplace=True)\n",
    "items = items.dropna(subset=[\"brand\"])\n",
    "print(\"After dropping Nan Items: \", items.shape)"
   ]
  },
  {
   "cell_type": "markdown",
   "metadata": {},
   "source": [
    "### Combine Text Features"
   ]
  },
  {
   "cell_type": "code",
   "execution_count": 59,
   "metadata": {},
   "outputs": [
    {
     "name": "stdout",
     "output_type": "stream",
     "text": []
    }
   ],
   "source": [
    "# Combine brand and title for better text representation\n",
    "items[\"combined_text\"] = items[\"brand\"] + \" \" + items[\"title\"]\n",
    "items"
   ]
  },
  {
   "cell_type": "markdown",
   "metadata": {},
   "source": [
    "## Feature Extraction\n",
    "We will use TF-IDF Vectorization to convert the text data into numerical features."
   ]
  },
  {
   "cell_type": "markdown",
   "metadata": {},
   "source": [
    "### Apply TF-IDF Vectorization"
   ]
  },
  {
   "cell_type": "code",
   "execution_count": 60,
   "metadata": {},
   "outputs": [],
   "source": [
    "# Apply TF-IDF Vectorization\n",
    "vectorizer = TfidfVectorizer(stop_words=\"english\")\n",
    "tfidf_matrix = vectorizer.fit_transform(items[\"combined_text\"])"
   ]
  },
  {
   "cell_type": "markdown",
   "metadata": {},
   "source": [
    "### Experiment with Different Feature Extraction Techniques"
   ]
  },
  {
   "cell_type": "code",
   "execution_count": 61,
   "metadata": {},
   "outputs": [],
   "source": [
    "# Experiment with different feature extraction techniques\n",
    "from sklearn.feature_extraction.text import CountVectorizer\n",
    "\n",
    "# Using Count Vectorizer\n",
    "count_vectorizer = CountVectorizer(stop_words=\"english\")\n",
    "count_matrix = count_vectorizer.fit_transform(items[\"combined_text\"])\n",
    "\n",
    "# Using TF-IDF Vectorizer\n",
    "tfidf_vectorizer = TfidfVectorizer(stop_words=\"english\")\n",
    "tfidf_matrix = tfidf_vectorizer.fit_transform(items[\"combined_text\"])\n",
    "\n",
    "# Choose the feature extraction method (uncomment one)\n",
    "# feature_matrix = count_matrix\n",
    "feature_matrix = tfidf_matrix"
   ]
  },
  {
   "cell_type": "markdown",
   "metadata": {},
   "source": [
    "### Compute Cosine Similarity\n",
    "We will compute the cosine similarity between the feature vectors to measure the similarity between items."
   ]
  },
  {
   "cell_type": "code",
   "execution_count": 62,
   "metadata": {},
   "outputs": [],
   "source": [
    "# Compute Cosine Similarity\n",
    "cosine_sim = cosine_similarity(feature_matrix, feature_matrix)"
   ]
  },
  {
   "cell_type": "markdown",
   "metadata": {},
   "source": [
    "## Build the Recommendation System\n",
    "We will build a content-based recommendation system using the cosine similarity matrix."
   ]
  },
  {
   "cell_type": "markdown",
   "metadata": {},
   "source": [
    "### Create a Mapping of ASINs to Indices"
   ]
  },
  {
   "cell_type": "code",
   "execution_count": 63,
   "metadata": {},
   "outputs": [],
   "source": [
    "# Create a mapping of phone ASINs to indices\n",
    "asin_to_index = {asin: idx for idx, asin in enumerate(items[\"asin\"])}"
   ]
  },
  {
   "cell_type": "markdown",
   "metadata": {},
   "source": [
    "### Function to Get Recommendations\n"
   ]
  },
  {
   "cell_type": "code",
   "execution_count": 64,
   "metadata": {},
   "outputs": [],
   "source": [
    "# Function to get recommendations based on ASIN\n",
    "def recommend_phones(asin, top_n=5):\n",
    "    if asin not in asin_to_index:\n",
    "        return \"ASIN not found.\"\n",
    "    \n",
    "    idx = asin_to_index[asin]\n",
    "    sim_scores = list(enumerate(cosine_sim[idx]))\n",
    "    sim_scores = sorted(sim_scores, key=lambda x: x[1], reverse=True)[1:top_n+1]\n",
    "    \n",
    "    phone_indices = [i[0] for i in sim_scores]\n",
    "    return items.iloc[phone_indices][[\"asin\", \"brand\", \"title\", \"rating\"]]"
   ]
  },
  {
   "cell_type": "markdown",
   "metadata": {},
   "source": [
    "## Hybrid Recommendation System\n",
    "We will combine content-based and collaborative filtering methods."
   ]
  },
  {
   "cell_type": "code",
   "execution_count": 65,
   "metadata": {},
   "outputs": [
    {
     "name": "stdout",
     "output_type": "stream",
     "text": []
    }
   ],
   "source": [
    "# Rename 'name' column to 'user_id'\n",
    "reviews.rename(columns={'name': 'user_id'}, inplace=True)\n",
    "\n",
    "# Collaborative Filtering using user-item interactions\n",
    "from sklearn.decomposition import TruncatedSVD\n",
    "\n",
    "# Create a user-item interaction matrix\n",
    "user_item_matrix = reviews.pivot(index='user_id', columns='asin', values='rating').fillna(0)\n",
    "\n",
    "# Apply SVD for collaborative filtering\n",
    "svd = TruncatedSVD(n_components=50, random_state=42)\n",
    "user_factors = svd.fit_transform(user_item_matrix)\n",
    "item_factors = svd.components_.T\n",
    "\n",
    "# Function to get hybrid recommendations\n",
    "def hybrid_recommend_phones(user_id, asin, top_n=5):\n",
    "    if asin not in asin_to_index:\n",
    "        return \"ASIN not found.\"\n",
    "    \n",
    "    # Content-based recommendations\n",
    "    idx = asin_to_index[asin]\n",
    "    content_sim_scores = list(enumerate(cosine_sim[idx]))\n",
    "    content_sim_scores = sorted(content_sim_scores, key=lambda x: x[1], reverse=True)[1:top_n+1]\n",
    "    content_phone_indices = [i[0] for i in content_sim_scores]\n",
    "    \n",
    "    # Collaborative filtering recommendations\n",
    "    user_idx = user_item_matrix.index.get_loc(user_id)\n",
    "    user_ratings = user_factors[user_idx].dot(item_factors.T)\n",
    "    collab_sim_scores = list(enumerate(user_ratings))\n",
    "    collab_sim_scores = sorted(collab_sim_scores, key=lambda x: x[1], reverse=True)[:top_n]\n",
    "    collab_phone_indices = [i[0] for i in collab_sim_scores]\n",
    "    \n",
    "    # Combine recommendations\n",
    "    combined_indices = list(set(content_phone_indices + collab_phone_indices))\n",
    "    return items.iloc[combined_indices][[\"asin\", \"brand\", \"title\", \"rating\"]]"
   ]
  },
  {
   "cell_type": "markdown",
   "metadata": {},
   "source": [
    "### Incorporate User Feedback\n",
    "We will incorporate user feedback to improve recommendations."
   ]
  },
  {
   "cell_type": "code",
   "execution_count": null,
   "metadata": {},
   "outputs": [],
   "source": [
    "# Function to incorporate user feedback\n",
    "def incorporate_feedback(user_id, asin, feedback):\n",
    "    if asin not in asin_to_index:\n",
    "        return \"ASIN not found.\"\n",
    "    \n",
    "    # Update user-item interaction matrix with feedback\n",
    "    user_item_matrix.at[user_id, asin] = feedback\n",
    "    \n",
    "    # Recompute SVD\n",
    "    user_factors = svd.fit_transform(user_item_matrix)\n",
    "    item_factors = svd.components_.T\n",
    "    \n",
    "    return \"Feedback incorporated successfully.\""
   ]
  },
  {
   "cell_type": "code",
   "execution_count": null,
   "metadata": {},
   "outputs": [
    {
     "name": "stdout",
     "output_type": "stream",
     "text": []
    }
   ],
   "source": [
    "# Example usage\n",
    "asin_to_recommend = \"B0009N5L7K\"  # Example ASIN\n",
    "recommendations = recommend_phones(asin_to_recommend, top_n=5)\n",
    "print(recommendations)"
   ]
  },
  {
   "cell_type": "code",
   "execution_count": null,
   "metadata": {},
   "outputs": [],
   "source": [
    "# Example usage of hybrid recommendation system\n",
    "user_id_to_recommend = \"A3SGXH7AUHU8GW\"  # Example user ID\n",
    "asin_to_recommend = \"B0009N5L7K\"  # Example ASIN\n",
    "hybrid_recommendations = hybrid_recommend_phones(user_id_to_recommend, asin_to_recommend, top_n=5)\n",
    "print(hybrid_recommendations)\n",
    "\n",
    "# Example usage of incorporating user feedback\n",
    "feedback = 5  # Example feedback rating\n",
    "feedback_result = incorporate_feedback(user_id_to_recommend, asin_to_recommend, feedback)\n",
    "print(feedback_result)"
   ]
  },
  {
   "cell_type": "code",
   "execution_count": null,
   "metadata": {},
   "outputs": [
    {
     "name": "stdout",
     "output_type": "stream",
     "text": []
    }
   ],
   "source": [
    "# Define a dictionary with relevant ASINs for each ASIN (this is just an example)\n",
    "relevant_asins = {\n",
    "    \"B0009N5L7K\": [\"B0009N5L7L\", \"B0009N5L7M\", \"B0009N5L7N\", \"B0009N5L7O\", \"B0009N5L7P\"],\n",
    "    # Add more ASINs and their relevant ASINs here\n",
    "}\n",
    "\n",
    "# Function to calculate precision\n",
    "def precision(recommended_asins, relevant_asins):\n",
    "    relevant_and_recommended = set(recommended_asins).intersection(set(relevant_asins))\n",
    "    return len(relevant_and_recommended) / len(recommended_asins)\n",
    "\n",
    "# Function to calculate recall\n",
    "def recall(recommended_asins, relevant_asins):\n",
    "    relevant_and_recommended = set(recommended_asins).intersection(set(relevant_asins))\n",
    "    return len(relevant_and_recommended) / len(relevant_asins)\n",
    "\n",
    "# Function to evaluate recommendations\n",
    "def evaluate_recommendations(asin, top_n=5):\n",
    "    if asin not in relevant_asins:\n",
    "        return \"No relevant ASINs found for evaluation.\"\n",
    "    \n",
    "    recommendations = recommend_phones(asin, top_n)\n",
    "    recommended_asins = recommendations[\"asin\"].tolist()\n",
    "    relevant_asins_list = relevant_asins[asin]\n",
    "    \n",
    "    prec = precision(recommended_asins, relevant_asins_list)\n",
    "    rec = recall(recommended_asins, relevant_asins_list)\n",
    "    \n",
    "    return {\"precision\": prec, \"recall\": rec}\n",
    "\n",
    "# Example usage\n",
    "asin_to_evaluate = \"B0009N5L7K\"  # Example ASIN\n",
    "evaluation_results = evaluate_recommendations(asin_to_evaluate, top_n=5)\n",
    "print(evaluation_results)"
   ]
  },
  {
   "cell_type": "code",
   "execution_count": 69,
   "metadata": {},
   "outputs": [
    {
     "name": "stdout",
     "output_type": "stream",
     "text": []
    }
   ],
   "source": [
    "# Load datasets (update paths accordingly)\n",
    "items_df = pd.read_csv(\"items.csv\")\n",
    "reviews_df = pd.read_csv(\"reviews.csv\")\n",
    "\n",
    "items_df.isnull().sum()\n",
    "reviews_df.isnull().sum()"
   ]
  }
 ],
 "metadata": {
  "kernelspec": {
   "display_name": "base",
   "language": "python",
   "name": "python3"
  },
  "language_info": {
   "codemirror_mode": {
    "name": "ipython",
    "version": 3
   },
   "file_extension": ".py",
   "mimetype": "text/x-python",
   "name": "python",
   "nbconvert_exporter": "python",
   "pygments_lexer": "ipython3",
   "version": "3.8.8"
  }
 },
 "nbformat": 4,
 "nbformat_minor": 2
}
